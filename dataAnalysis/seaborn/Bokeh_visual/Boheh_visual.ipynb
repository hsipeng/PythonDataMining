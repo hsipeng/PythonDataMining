{
 "cells": [
  {
   "cell_type": "code",
   "execution_count": 2,
   "metadata": {},
   "outputs": [
    {
     "data": {
      "text/html": [
       "<script>requirejs.config({paths: { 'plotly': ['https://cdn.plot.ly/plotly-latest.min']},});if(!window.Plotly) {{require(['plotly'],function(plotly) {window.Plotly=plotly;});}}</script>"
      ],
      "text/vnd.plotly.v1+html": [
       "<script>requirejs.config({paths: { 'plotly': ['https://cdn.plot.ly/plotly-latest.min']},});if(!window.Plotly) {{require(['plotly'],function(plotly) {window.Plotly=plotly;});}}</script>"
      ]
     },
     "metadata": {},
     "output_type": "display_data"
    }
   ],
   "source": [
    "import pandas as pd\n",
    "import matplotlib.pyplot as plt\n",
    "%matplotlib inline\n",
    "\n",
    "import plotly\n",
    "import plotly.graph_objs as go\n",
    "import plotly.offline as py\n",
    "plotly.offline.init_notebook_mode(connected=True)\n",
    "\n",
    "import warnings\n",
    "warnings.filterwarnings('ignore')\n",
    "\n",
    "# 读取csv文件\n",
    "team_stats = pd.read_csv('2017-18_teamBoxScore.csv', parse_dates=['gmDate'])"
   ]
  },
  {
   "cell_type": "markdown",
   "metadata": {},
   "source": [
    "### GS胜负情况 vs 两分球、三分球进球率"
   ]
  },
  {
   "cell_type": "code",
   "execution_count": 3,
   "metadata": {
    "collapsed": true
   },
   "outputs": [],
   "source": [
    "# 提取相关数据\n",
    "gs_gm_stats_2 = (team_stats[(team_stats['teamAbbr'] == 'GS') & \n",
    "                             (team_stats['seasTyp'] == 'Regular')]\n",
    "                  .loc[:, ['gmDate', \n",
    "                           'team2P%', \n",
    "                           'team3P%', \n",
    "                           'teamPTS', \n",
    "                           'opptPTS']]\n",
    "                  .sort_values('gmDate'))\n",
    "\n",
    "# 添加比赛号码\n",
    "gs_gm_stats_2['game_num'] = range(1, len(gs_gm_stats_2) + 1)\n",
    "\n",
    "# 衍生出一个新的 “输赢” 列特征\n",
    "win_loss = []\n",
    "for _, row in gs_gm_stats_2.iterrows():\n",
    "\n",
    "    # 如果76人队得分更多，判定为赢\n",
    "    if row['teamPTS'] > row['opptPTS']:\n",
    "        win_loss.append('W')\n",
    "    else:\n",
    "        win_loss.append('L')\n",
    "\n",
    "# 添加输赢特征(winLoss)\n",
    "gs_gm_stats_2['winLoss'] = win_loss"
   ]
  },
  {
   "cell_type": "code",
   "execution_count": 4,
   "metadata": {},
   "outputs": [
    {
     "data": {
      "text/html": [
       "<div>\n",
       "<style>\n",
       "    .dataframe thead tr:only-child th {\n",
       "        text-align: right;\n",
       "    }\n",
       "\n",
       "    .dataframe thead th {\n",
       "        text-align: left;\n",
       "    }\n",
       "\n",
       "    .dataframe tbody tr th {\n",
       "        vertical-align: top;\n",
       "    }\n",
       "</style>\n",
       "<table border=\"1\" class=\"dataframe\">\n",
       "  <thead>\n",
       "    <tr style=\"text-align: right;\">\n",
       "      <th></th>\n",
       "      <th>gmDate</th>\n",
       "      <th>team2P%</th>\n",
       "      <th>team3P%</th>\n",
       "      <th>teamPTS</th>\n",
       "      <th>opptPTS</th>\n",
       "      <th>game_num</th>\n",
       "      <th>winLoss</th>\n",
       "    </tr>\n",
       "  </thead>\n",
       "  <tbody>\n",
       "    <tr>\n",
       "      <th>3</th>\n",
       "      <td>2017-10-17</td>\n",
       "      <td>0.5400</td>\n",
       "      <td>0.5333</td>\n",
       "      <td>121</td>\n",
       "      <td>122</td>\n",
       "      <td>1</td>\n",
       "      <td>L</td>\n",
       "    </tr>\n",
       "    <tr>\n",
       "      <th>48</th>\n",
       "      <td>2017-10-20</td>\n",
       "      <td>0.5686</td>\n",
       "      <td>0.4500</td>\n",
       "      <td>128</td>\n",
       "      <td>120</td>\n",
       "      <td>2</td>\n",
       "      <td>W</td>\n",
       "    </tr>\n",
       "    <tr>\n",
       "      <th>60</th>\n",
       "      <td>2017-10-21</td>\n",
       "      <td>0.4565</td>\n",
       "      <td>0.3158</td>\n",
       "      <td>101</td>\n",
       "      <td>111</td>\n",
       "      <td>3</td>\n",
       "      <td>L</td>\n",
       "    </tr>\n",
       "    <tr>\n",
       "      <th>88</th>\n",
       "      <td>2017-10-23</td>\n",
       "      <td>0.7021</td>\n",
       "      <td>0.3846</td>\n",
       "      <td>133</td>\n",
       "      <td>103</td>\n",
       "      <td>4</td>\n",
       "      <td>W</td>\n",
       "    </tr>\n",
       "    <tr>\n",
       "      <th>125</th>\n",
       "      <td>2017-10-25</td>\n",
       "      <td>0.6078</td>\n",
       "      <td>0.4615</td>\n",
       "      <td>117</td>\n",
       "      <td>112</td>\n",
       "      <td>5</td>\n",
       "      <td>W</td>\n",
       "    </tr>\n",
       "  </tbody>\n",
       "</table>\n",
       "</div>"
      ],
      "text/plain": [
       "        gmDate  team2P%  team3P%  teamPTS  opptPTS  game_num winLoss\n",
       "3   2017-10-17   0.5400   0.5333      121      122         1       L\n",
       "48  2017-10-20   0.5686   0.4500      128      120         2       W\n",
       "60  2017-10-21   0.4565   0.3158      101      111         3       L\n",
       "88  2017-10-23   0.7021   0.3846      133      103         4       W\n",
       "125 2017-10-25   0.6078   0.4615      117      112         5       W"
      ]
     },
     "execution_count": 4,
     "metadata": {},
     "output_type": "execute_result"
    }
   ],
   "source": [
    "# Bokeh Libraries\n",
    "from bokeh.plotting import figure, show\n",
    "from bokeh.io import output_file\n",
    "from bokeh.models import ColumnDataSource, CategoricalColorMapper, NumeralTickFormatter\n",
    "from bokeh.layouts import gridplot\n",
    "\n",
    "# Store the data in a ColumnDataSource\n",
    "gm_stats_cds = ColumnDataSource(gs_gm_stats_2)\n",
    "\n",
    "gs_gm_stats_2.head()"
   ]
  },
  {
   "cell_type": "code",
   "execution_count": 5,
   "metadata": {
    "collapsed": true
   },
   "outputs": [],
   "source": [
    "# Bokeh库\n",
    "from bokeh.plotting import figure, show\n",
    "from bokeh.io import output_file\n",
    "from bokeh.models import ColumnDataSource, CategoricalColorMapper, NumeralTickFormatter\n",
    "from bokeh.layouts import gridplot\n",
    "\n",
    "# 步骤一：将数据储存在ColumnDataSource中\n",
    "gm_stats_cds = ColumnDataSource(gs_gm_stats_2)\n",
    "\n",
    "# 步骤二：生成一个静态的html文件\n",
    "output_file('gs-gm-linked-selections.html',\n",
    "            title='Golden State Percentages vs. Win-Loss')\n",
    "\n",
    "# 创建CategoricalColorMapper，对win和loss分配特定颜色\n",
    "win_loss_mapper = CategoricalColorMapper(factors = ['W', 'L'], palette=['Green', 'Red'])\n",
    "\n",
    "# 自定义工具\n",
    "toolList = ['lasso_select', 'tap', 'reset', 'save']\n",
    "\n",
    "# 步骤三：配置图形界面\n",
    "pctFig = figure(title='两分球得分率 % vs 3分球得分率 %, 2017-18 常规赛季',\n",
    "                plot_height=400, plot_width=400, tools=toolList,\n",
    "                x_axis_label='两分球得分率%', y_axis_label='3分球得分率%')\n",
    "\n",
    "# 步骤四：采用圆点图绘制数据\n",
    "pctFig.circle(x='team2P%', y='team3P%', source=gm_stats_cds, \n",
    "              size=12, color='blue')\n",
    "\n",
    "# 将y轴标记变为百分比形式\n",
    "pctFig.xaxis[0].formatter = NumeralTickFormatter(format='00.0%')\n",
    "pctFig.yaxis[0].formatter = NumeralTickFormatter(format='00.0%')\n",
    "\n",
    "# 创建一个与整体相关的图形\n",
    "totFig = figure(title='团队得分 vs 对手得分, 2017-18 常规赛季',\n",
    "                plot_height=400, plot_width=400, tools=toolList,\n",
    "                x_axis_label='团队得分', y_axis_label='对手得分')\n",
    "\n",
    "# 绘制正方形点图\n",
    "totFig.square(x='teamPTS', y='opptPTS', source=gm_stats_cds, size=10,\n",
    "              color=dict(field='winLoss', transform=win_loss_mapper))\n",
    "\n",
    "# 创建图形布局\n",
    "grid = gridplot([[pctFig, totFig]])\n",
    "\n",
    "# 可视化展示\n",
    "show(grid)"
   ]
  }
 ],
 "metadata": {
  "kernelspec": {
   "display_name": "Python 3",
   "language": "python",
   "name": "python3"
  },
  "language_info": {
   "codemirror_mode": {
    "name": "ipython",
    "version": 3
   },
   "file_extension": ".py",
   "mimetype": "text/x-python",
   "name": "python",
   "nbconvert_exporter": "python",
   "pygments_lexer": "ipython3",
   "version": "3.6.3"
  }
 },
 "nbformat": 4,
 "nbformat_minor": 2
}
